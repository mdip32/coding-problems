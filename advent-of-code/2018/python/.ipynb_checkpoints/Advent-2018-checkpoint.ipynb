{
 "cells": [
  {
   "cell_type": "markdown",
   "metadata": {},
   "source": [
    "** Imports and Utilities (stolen from Peter Norvig) "
   ]
  },
  {
   "cell_type": "code",
   "execution_count": 1,
   "metadata": {},
   "outputs": [],
   "source": [
    "#### IMPORTS\n",
    "\n",
    "%matplotlib inline\n",
    "import matplotlib.pyplot as plt\n",
    "import re\n",
    "from collections import Counter, defaultdict, namedtuple, deque\n",
    "from itertools   import chain, cycle, product, islice, count as count_from\n",
    "from functools   import lru_cache, total_ordering\n",
    "from dataclasses import dataclass\n",
    "\n",
    "#### CONSTANTS\n",
    "\n",
    "infinity = float('inf')\n",
    "bignum   = 10 ** 100\n",
    "\n",
    "#### FILE INPUT AND PARSING\n",
    "\n",
    "def Input(day, line_parser=str.strip, file_template='data/advent2018/input{}.txt'):\n",
    "    \"For this day's input file, return a tuple of each line parsed by `line_parser`.\"\n",
    "    return mapt(line_parser, open(file_template.format(day)))\n",
    "\n",
    "def integers(text): \n",
    "    \"A tuple of all integers in a string (ignore other characters).\"\n",
    "    return mapt(int, re.findall(r'-?\\d+', text))\n",
    "\n",
    "#### UTILITY FUNCTIONS\n",
    "\n",
    "def mapt(fn, *args): \n",
    "    \"Do a map, and make the results into a tuple.\"\n",
    "    return tuple(map(fn, *args))\n",
    "\n",
    "def first(iterable, default=None):\n",
    "    \"Return first item in iterable, or default.\"\n",
    "    return next(iter(iterable), default)\n",
    "\n",
    "def nth(iterable, n): return next(islice(iter(iterable), n, n+1))\n",
    "\n",
    "cat = ''.join\n",
    "\n",
    "def rangei(start, end, step=1):\n",
    "    \"\"\"Inclusive, range from start to end: rangei(a, b) = range(a, b+1).\"\"\"\n",
    "    return range(start, end + 1, step) \n",
    "\n",
    "def quantify(iterable, pred=bool):\n",
    "    \"Count how many items in iterable have pred(item) true.\"\n",
    "    return sum(map(pred, iterable))\n",
    "\n",
    "def multimap(items):\n",
    "    \"Given (key, val) pairs, return {key: [val, ....], ...}.\"\n",
    "    result = defaultdict(list)\n",
    "    for (key, val) in items:\n",
    "        result[key].append(val)\n",
    "    return result"
   ]
  },
  {
   "cell_type": "code",
   "execution_count": null,
   "metadata": {},
   "outputs": [],
   "source": []
  }
 ],
 "metadata": {
  "kernelspec": {
   "display_name": "Python 3 (ipykernel)",
   "language": "python",
   "name": "python3"
  },
  "language_info": {
   "codemirror_mode": {
    "name": "ipython",
    "version": 3
   },
   "file_extension": ".py",
   "mimetype": "text/x-python",
   "name": "python",
   "nbconvert_exporter": "python",
   "pygments_lexer": "ipython3",
   "version": "3.11.1"
  },
  "vscode": {
   "interpreter": {
    "hash": "ede03c572d054b47f567fc43ba0a0d06de7bb92d2ec7ec2b66c5f78fe9411fd3"
   }
  }
 },
 "nbformat": 4,
 "nbformat_minor": 2
}
